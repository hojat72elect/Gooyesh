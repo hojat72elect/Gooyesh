{
 "cells": [
  {
   "metadata": {},
   "cell_type": "markdown",
   "source": "In this notebook, we want to extract data from a PDF file.",
   "id": "f67b2ee9205df2f4"
  },
  {
   "cell_type": "code",
   "id": "initial_id",
   "metadata": {
    "collapsed": true,
    "ExecuteTime": {
     "end_time": "2025-05-11T06:53:03.514926Z",
     "start_time": "2025-05-11T06:53:03.462748Z"
    }
   },
   "source": [
    "# Import all the required libraries\n",
    "import PyPDF2\n",
    "from PyPDF2 import PdfReader"
   ],
   "outputs": [],
   "execution_count": 1
  },
  {
   "metadata": {
    "ExecuteTime": {
     "end_time": "2025-05-11T06:54:57.690192Z",
     "start_time": "2025-05-11T06:54:57.648845Z"
    }
   },
   "cell_type": "code",
   "source": [
    "# Read the PDF file\n",
    "pdf = open(\"example_pdf.pdf\", \"rb\")\n",
    "pdf_reader = PyPDF2.PdfReader(pdf)"
   ],
   "id": "530d25d4684b1ae7",
   "outputs": [],
   "execution_count": 3
  },
  {
   "metadata": {
    "ExecuteTime": {
     "end_time": "2025-05-11T06:56:40.662336Z",
     "start_time": "2025-05-11T06:56:40.658280Z"
    }
   },
   "cell_type": "code",
   "source": [
    "# Number of pages of the PDF document\n",
    "print(len(pdf_reader.pages))"
   ],
   "id": "2236fffcc0e5d8b4",
   "outputs": [
    {
     "name": "stdout",
     "output_type": "stream",
     "text": [
      "26\n"
     ]
    }
   ],
   "execution_count": 6
  },
  {
   "metadata": {
    "ExecuteTime": {
     "end_time": "2025-05-11T07:01:08.526829Z",
     "start_time": "2025-05-11T07:01:08.493760Z"
    }
   },
   "cell_type": "code",
   "source": [
    "# Read the first page of our pdf\n",
    "page  = pdf_reader.pages[0]\n",
    "print(page.extract_text())"
   ],
   "id": "63c7127712ce807a",
   "outputs": [
    {
     "name": "stdout",
     "output_type": "stream",
     "text": [
      "Python\n",
      "Paradigm Multi-paradigm:\n",
      "functional,\n",
      "imperative, object-\n",
      "oriented, structured,\n",
      "reflective\n",
      "Designed by Guido van Rossum\n",
      "Developer Python Software\n",
      "Foundation\n",
      "First appeared1990[1]\n",
      "Stable release 3.8.2 / 24 February\n",
      "2020[2]\n",
      "Preview release3.9.0a5 / 23 March\n",
      "2020[3] and\n",
      "2.7.18rc1[4][5]\n",
      "Typing\n",
      "disciplineDuck, dynamic,\n",
      "gradual (since 3.5)[6]\n",
      "License Python Software\n",
      "Foundation License\n",
      "Filename\n",
      "extensions.py, .pyi, .pyc, .pyd,\n",
      ".pyo (prior to 3.5),[7]\n",
      ".pyw, .pyz (since\n",
      "3.5)[8]\n",
      "Website www.python.org (http\n",
      "s://www.python.org/)\n",
      "Major implementations\n",
      "CPython, PyPy, Stackless Python,\n",
      "MicroPython, CircuitPython, IronPython,\n",
      "Jython, RustPython\n",
      "Dialects\n",
      "Cython, RPython, Starlark[9]\n",
      "Influenced by\n",
      "ABC,[10], Ada[11], ALGOL 68,[12]Python (programming language)\n",
      "Python  is an interpreted , high-level , general-purpose\n",
      "programming language . Created by Guido van Rossum  and first\n",
      "released in 1991. Python's design philosophy emphasizes code\n",
      "readability  with its notable use of significant whitespace . Its\n",
      "language constructs  and object-oriented  approach aim to help\n",
      "programmers write clear , logical code for small and large-scale\n",
      "projects.[30]\n",
      "Python is dynamically typed  and garbage-collected . It supports\n",
      "multiple programming paradigms , including structured\n",
      "(particularly , procedural ), object-oriented, and functional\n",
      "programming . Python is often described as a \"batteries included\"\n",
      "language due to its comprehensive standard library .[31]\n",
      "Python was conceived in the late 1980s as a successor to the\n",
      "ABC language . Python 2.0, release d in 2000, introduce d features\n",
      "like list comprehensions  and a garbage colle ction system capable\n",
      "of collecting reference cycles . Python 3.0, released in 2008, was\n",
      "a major revision of the language that is not completely backward-\n",
      "compatible , and much Python 2 code does not run unmodified on\n",
      "Python 3.\n",
      "The Python 2 language, i.e. Python 2.7.x, was officially\n",
      "discontinued on 1 January 2020 (first planned for 2015) after\n",
      "which security patches and other improvements will not be\n",
      "released for it.[32][33] With Python 2's end-of-life , only\n",
      "Python 3.5.x[34] and later are supported.\n",
      "Python interpreters  are availa ble for many operating systems . A\n",
      "global community of programmers develops and maintains\n",
      "CPython , an open source[35] reference implementation . A non-\n",
      "profit organization , the Python Software Foundation , manages\n",
      "and directs resources for Python and CPython development.\n",
      "History\n",
      "Features and philosophy\n",
      "Syntax and semantics\n",
      "Indentation\n",
      "Statements and control flow\n",
      "Expressions\n",
      "Methods\n",
      "TypingContents\n"
     ]
    }
   ],
   "execution_count": 11
  },
  {
   "metadata": {
    "ExecuteTime": {
     "end_time": "2025-05-11T07:01:26.206335Z",
     "start_time": "2025-05-11T07:01:26.202656Z"
    }
   },
   "cell_type": "code",
   "source": "pdf.close()",
   "id": "9531a1534cb28a86",
   "outputs": [],
   "execution_count": 12
  },
  {
   "metadata": {},
   "cell_type": "code",
   "outputs": [],
   "execution_count": null,
   "source": "",
   "id": "f1e0ded448be1310"
  }
 ],
 "metadata": {
  "kernelspec": {
   "display_name": "Python 3",
   "language": "python",
   "name": "python3"
  },
  "language_info": {
   "codemirror_mode": {
    "name": "ipython",
    "version": 2
   },
   "file_extension": ".py",
   "mimetype": "text/x-python",
   "name": "python",
   "nbconvert_exporter": "python",
   "pygments_lexer": "ipython2",
   "version": "2.7.6"
  }
 },
 "nbformat": 4,
 "nbformat_minor": 5
}
