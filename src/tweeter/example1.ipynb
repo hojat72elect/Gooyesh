{
 "cells": [
  {
   "cell_type": "code",
   "id": "initial_id",
   "metadata": {
    "collapsed": true,
    "ExecuteTime": {
     "end_time": "2025-05-11T06:08:01.613452Z",
     "start_time": "2025-05-11T06:08:00.499819Z"
    }
   },
   "source": [
    "# Import the required libraries\n",
    "import numpy as np\n",
    "import tweepy\n",
    "import json\n",
    "import pandas as pd\n",
    "from tweepy import OAuthHandler"
   ],
   "outputs": [],
   "execution_count": 1
  },
  {
   "metadata": {
    "ExecuteTime": {
     "end_time": "2025-05-11T06:10:39.653736Z",
     "start_time": "2025-05-11T06:10:39.648164Z"
    }
   },
   "cell_type": "code",
   "source": [
    "#required credentials for this project\n",
    "API_KEY = \"DPZb1RDkiGWOivXs2TUQ0mTOO\"\n",
    "API_KEY_SECRET = \"G5qHpswjGnL9njEaPE5SrjuEPH0IWfjdceDMkkUfNFeDOuuYpA\"\n",
    "ACCESS_TOKEN = \"1214878450173063168-y9U7fpHvPwc00S2ZFqRjYmp7DdFstO\"\n",
    "ACCESS_TOKEN_SECRET = \"dt6WTuloqmN0rcebFaXPkDQLSMgFOlQHbvDnL2TY7ryPu\""
   ],
   "id": "d3c493bb5ad9ba08",
   "outputs": [],
   "execution_count": 2
  },
  {
   "metadata": {
    "ExecuteTime": {
     "end_time": "2025-05-11T06:12:55.822684Z",
     "start_time": "2025-05-11T06:12:55.816788Z"
    }
   },
   "cell_type": "code",
   "source": [
    "# Calling the API\n",
    "auth = tweepy.OAuthHandler(API_KEY, API_KEY_SECRET)\n",
    "auth.set_access_token(ACCESS_TOKEN, ACCESS_TOKEN_SECRET)\n",
    "api = tweepy.API(auth)"
   ],
   "id": "223f7f834ed674a7",
   "outputs": [],
   "execution_count": 3
  },
  {
   "metadata": {
    "ExecuteTime": {
     "end_time": "2025-05-11T06:16:27.894112Z",
     "start_time": "2025-05-11T06:16:27.888585Z"
    }
   },
   "cell_type": "code",
   "source": [
    "# Define the query you wanna pull the data for.\n",
    "query = \"Kotlin\""
   ],
   "id": "3750cd7be8f0ccc9",
   "outputs": [],
   "execution_count": 5
  },
  {
   "metadata": {
    "ExecuteTime": {
     "end_time": "2025-05-11T06:34:14.421469Z",
     "start_time": "2025-05-11T06:34:14.268666Z"
    }
   },
   "cell_type": "code",
   "source": [
    "# Fetching tweets\n",
    "tweets = api.search_tweets(query,count=10, lang=\"en\", tweet_mode=\"extended\")"
   ],
   "id": "420329562e54d79e",
   "outputs": [
    {
     "ename": "Forbidden",
     "evalue": "403 Forbidden\n453 - You currently have access to a subset of X API V2 endpoints and limited v1.1 endpoints (e.g. media post, oauth) only. If you need access to this endpoint, you may need a different access level. You can learn more here: https://developer.x.com/en/portal/product",
     "output_type": "error",
     "traceback": [
      "\u001B[31m---------------------------------------------------------------------------\u001B[39m",
      "\u001B[31mForbidden\u001B[39m                                 Traceback (most recent call last)",
      "\u001B[36mCell\u001B[39m\u001B[36m \u001B[39m\u001B[32mIn[7]\u001B[39m\u001B[32m, line 2\u001B[39m\n\u001B[32m      1\u001B[39m \u001B[38;5;66;03m# Fetching tweets\u001B[39;00m\n\u001B[32m----> \u001B[39m\u001B[32m2\u001B[39m tweets = \u001B[43mapi\u001B[49m\u001B[43m.\u001B[49m\u001B[43msearch_tweets\u001B[49m\u001B[43m(\u001B[49m\u001B[43mquery\u001B[49m\u001B[43m,\u001B[49m\u001B[43mcount\u001B[49m\u001B[43m=\u001B[49m\u001B[32;43m10\u001B[39;49m\u001B[43m,\u001B[49m\u001B[43m \u001B[49m\u001B[43mlang\u001B[49m\u001B[43m=\u001B[49m\u001B[33;43m\"\u001B[39;49m\u001B[33;43men\u001B[39;49m\u001B[33;43m\"\u001B[39;49m\u001B[43m,\u001B[49m\u001B[43m \u001B[49m\u001B[43mtweet_mode\u001B[49m\u001B[43m=\u001B[49m\u001B[33;43m\"\u001B[39;49m\u001B[33;43mextended\u001B[39;49m\u001B[33;43m\"\u001B[39;49m\u001B[43m)\u001B[49m\n",
      "\u001B[36mFile \u001B[39m\u001B[32mD:\\Dev\\Python\\Repositories\\Gooyesh\\.venv\\Lib\\site-packages\\tweepy\\api.py:32\u001B[39m, in \u001B[36mpagination.<locals>.decorator.<locals>.wrapper\u001B[39m\u001B[34m(*args, **kwargs)\u001B[39m\n\u001B[32m     30\u001B[39m \u001B[38;5;129m@functools\u001B[39m.wraps(method)\n\u001B[32m     31\u001B[39m \u001B[38;5;28;01mdef\u001B[39;00m\u001B[38;5;250m \u001B[39m\u001B[34mwrapper\u001B[39m(*args, **kwargs):\n\u001B[32m---> \u001B[39m\u001B[32m32\u001B[39m     \u001B[38;5;28;01mreturn\u001B[39;00m \u001B[43mmethod\u001B[49m\u001B[43m(\u001B[49m\u001B[43m*\u001B[49m\u001B[43margs\u001B[49m\u001B[43m,\u001B[49m\u001B[43m \u001B[49m\u001B[43m*\u001B[49m\u001B[43m*\u001B[49m\u001B[43mkwargs\u001B[49m\u001B[43m)\u001B[49m\n",
      "\u001B[36mFile \u001B[39m\u001B[32mD:\\Dev\\Python\\Repositories\\Gooyesh\\.venv\\Lib\\site-packages\\tweepy\\api.py:45\u001B[39m, in \u001B[36mpayload.<locals>.decorator.<locals>.wrapper\u001B[39m\u001B[34m(*args, **kwargs)\u001B[39m\n\u001B[32m     43\u001B[39m kwargs[\u001B[33m'\u001B[39m\u001B[33mpayload_list\u001B[39m\u001B[33m'\u001B[39m] = payload_list\n\u001B[32m     44\u001B[39m kwargs[\u001B[33m'\u001B[39m\u001B[33mpayload_type\u001B[39m\u001B[33m'\u001B[39m] = payload_type\n\u001B[32m---> \u001B[39m\u001B[32m45\u001B[39m \u001B[38;5;28;01mreturn\u001B[39;00m \u001B[43mmethod\u001B[49m\u001B[43m(\u001B[49m\u001B[43m*\u001B[49m\u001B[43margs\u001B[49m\u001B[43m,\u001B[49m\u001B[43m \u001B[49m\u001B[43m*\u001B[49m\u001B[43m*\u001B[49m\u001B[43mkwargs\u001B[49m\u001B[43m)\u001B[49m\n",
      "\u001B[36mFile \u001B[39m\u001B[32mD:\\Dev\\Python\\Repositories\\Gooyesh\\.venv\\Lib\\site-packages\\tweepy\\api.py:1221\u001B[39m, in \u001B[36mAPI.search_tweets\u001B[39m\u001B[34m(self, q, **kwargs)\u001B[39m\n\u001B[32m   1117\u001B[39m \u001B[38;5;129m@pagination\u001B[39m(mode=\u001B[33m'\u001B[39m\u001B[33mid\u001B[39m\u001B[33m'\u001B[39m)\n\u001B[32m   1118\u001B[39m \u001B[38;5;129m@payload\u001B[39m(\u001B[33m'\u001B[39m\u001B[33msearch_results\u001B[39m\u001B[33m'\u001B[39m)\n\u001B[32m   1119\u001B[39m \u001B[38;5;28;01mdef\u001B[39;00m\u001B[38;5;250m \u001B[39m\u001B[34msearch_tweets\u001B[39m(\u001B[38;5;28mself\u001B[39m, q, **kwargs):\n\u001B[32m   1120\u001B[39m \u001B[38;5;250m    \u001B[39m\u001B[33;03m\"\"\"search_tweets(q, *, geocode, lang, locale, result_type, count, \\\u001B[39;00m\n\u001B[32m   1121\u001B[39m \u001B[33;03m                     until, since_id, max_id, include_entities)\u001B[39;00m\n\u001B[32m   1122\u001B[39m \n\u001B[32m   (...)\u001B[39m\u001B[32m   1219\u001B[39m \u001B[33;03m        2023.: https://twittercommunity.com/t/x-api-v2-migration/203391\u001B[39;00m\n\u001B[32m   1220\u001B[39m \u001B[33;03m    \"\"\"\u001B[39;00m\n\u001B[32m-> \u001B[39m\u001B[32m1221\u001B[39m     \u001B[38;5;28;01mreturn\u001B[39;00m \u001B[38;5;28;43mself\u001B[39;49m\u001B[43m.\u001B[49m\u001B[43mrequest\u001B[49m\u001B[43m(\u001B[49m\n\u001B[32m   1222\u001B[39m \u001B[43m        \u001B[49m\u001B[33;43m'\u001B[39;49m\u001B[33;43mGET\u001B[39;49m\u001B[33;43m'\u001B[39;49m\u001B[43m,\u001B[49m\u001B[43m \u001B[49m\u001B[33;43m'\u001B[39;49m\u001B[33;43msearch/tweets\u001B[39;49m\u001B[33;43m'\u001B[39;49m\u001B[43m,\u001B[49m\u001B[43m \u001B[49m\u001B[43mendpoint_parameters\u001B[49m\u001B[43m=\u001B[49m\u001B[43m(\u001B[49m\n\u001B[32m   1223\u001B[39m \u001B[43m            \u001B[49m\u001B[33;43m'\u001B[39;49m\u001B[33;43mq\u001B[39;49m\u001B[33;43m'\u001B[39;49m\u001B[43m,\u001B[49m\u001B[43m \u001B[49m\u001B[33;43m'\u001B[39;49m\u001B[33;43mgeocode\u001B[39;49m\u001B[33;43m'\u001B[39;49m\u001B[43m,\u001B[49m\u001B[43m \u001B[49m\u001B[33;43m'\u001B[39;49m\u001B[33;43mlang\u001B[39;49m\u001B[33;43m'\u001B[39;49m\u001B[43m,\u001B[49m\u001B[43m \u001B[49m\u001B[33;43m'\u001B[39;49m\u001B[33;43mlocale\u001B[39;49m\u001B[33;43m'\u001B[39;49m\u001B[43m,\u001B[49m\u001B[43m \u001B[49m\u001B[33;43m'\u001B[39;49m\u001B[33;43mresult_type\u001B[39;49m\u001B[33;43m'\u001B[39;49m\u001B[43m,\u001B[49m\u001B[43m \u001B[49m\u001B[33;43m'\u001B[39;49m\u001B[33;43mcount\u001B[39;49m\u001B[33;43m'\u001B[39;49m\u001B[43m,\u001B[49m\n\u001B[32m   1224\u001B[39m \u001B[43m            \u001B[49m\u001B[33;43m'\u001B[39;49m\u001B[33;43muntil\u001B[39;49m\u001B[33;43m'\u001B[39;49m\u001B[43m,\u001B[49m\u001B[43m \u001B[49m\u001B[33;43m'\u001B[39;49m\u001B[33;43msince_id\u001B[39;49m\u001B[33;43m'\u001B[39;49m\u001B[43m,\u001B[49m\u001B[43m \u001B[49m\u001B[33;43m'\u001B[39;49m\u001B[33;43mmax_id\u001B[39;49m\u001B[33;43m'\u001B[39;49m\u001B[43m,\u001B[49m\u001B[43m \u001B[49m\u001B[33;43m'\u001B[39;49m\u001B[33;43minclude_entities\u001B[39;49m\u001B[33;43m'\u001B[39;49m\n\u001B[32m   1225\u001B[39m \u001B[43m        \u001B[49m\u001B[43m)\u001B[49m\u001B[43m,\u001B[49m\u001B[43m \u001B[49m\u001B[43mq\u001B[49m\u001B[43m=\u001B[49m\u001B[43mq\u001B[49m\u001B[43m,\u001B[49m\u001B[43m \u001B[49m\u001B[43m*\u001B[49m\u001B[43m*\u001B[49m\u001B[43mkwargs\u001B[49m\n\u001B[32m   1226\u001B[39m \u001B[43m    \u001B[49m\u001B[43m)\u001B[49m\n",
      "\u001B[36mFile \u001B[39m\u001B[32mD:\\Dev\\Python\\Repositories\\Gooyesh\\.venv\\Lib\\site-packages\\tweepy\\api.py:270\u001B[39m, in \u001B[36mAPI.request\u001B[39m\u001B[34m(self, method, endpoint, endpoint_parameters, params, headers, json_payload, parser, payload_list, payload_type, post_data, files, require_auth, return_cursors, upload_api, use_cache, **kwargs)\u001B[39m\n\u001B[32m    268\u001B[39m     \u001B[38;5;28;01mraise\u001B[39;00m Unauthorized(resp)\n\u001B[32m    269\u001B[39m \u001B[38;5;28;01mif\u001B[39;00m resp.status_code == \u001B[32m403\u001B[39m:\n\u001B[32m--> \u001B[39m\u001B[32m270\u001B[39m     \u001B[38;5;28;01mraise\u001B[39;00m Forbidden(resp)\n\u001B[32m    271\u001B[39m \u001B[38;5;28;01mif\u001B[39;00m resp.status_code == \u001B[32m404\u001B[39m:\n\u001B[32m    272\u001B[39m     \u001B[38;5;28;01mraise\u001B[39;00m NotFound(resp)\n",
      "\u001B[31mForbidden\u001B[39m: 403 Forbidden\n453 - You currently have access to a subset of X API V2 endpoints and limited v1.1 endpoints (e.g. media post, oauth) only. If you need access to this endpoint, you may need a different access level. You can learn more here: https://developer.x.com/en/portal/product"
     ]
    }
   ],
   "execution_count": 7
  },
  {
   "metadata": {},
   "cell_type": "code",
   "outputs": [],
   "execution_count": null,
   "source": "",
   "id": "a4efb703ec6ad8a3"
  }
 ],
 "metadata": {
  "kernelspec": {
   "display_name": "Python 3",
   "language": "python",
   "name": "python3"
  },
  "language_info": {
   "codemirror_mode": {
    "name": "ipython",
    "version": 2
   },
   "file_extension": ".py",
   "mimetype": "text/x-python",
   "name": "python",
   "nbconvert_exporter": "python",
   "pygments_lexer": "ipython2",
   "version": "2.7.6"
  }
 },
 "nbformat": 4,
 "nbformat_minor": 5
}
